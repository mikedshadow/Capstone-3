{
 "cells": [
  {
   "cell_type": "code",
   "execution_count": null,
   "id": "0836d812",
   "metadata": {},
   "outputs": [],
   "source": [
    "import pandas as pd\n",
    "import matplotlib.pyplot as plt\n",
    "import numpy as np"
   ]
  },
  {
   "cell_type": "markdown",
   "id": "075dabb1",
   "metadata": {},
   "source": [
    "The VIX Index is a financial benchmark designed to be an up-to-the-minute market estimate of expected volatility of the S&P 500 Index, and is calculated by using the midpoint of real-time S&P 500® Index (SPX) option bid/ask quotes. More specifically, the VIX Index is intended to provide an instantaneous measure of how much the market thinks the S&P 500 Index will fluctuate in the 30 days from the time of each tick of the VIX Index.\n",
    "\n",
    "\n",
    "Cboe Options Exchange® (Cboe Options®) calculates the VIX Index using standard SPX options and weekly SPX options that are listed for trading on Cboe Options. Standard SPX options expire on the third Friday of each month and weekly SPX options expire on all other Fridays. Only SPX options with Friday expirations are used to calculate the VIX Index.* Only SPX options with more than 23 days and less than 37 days to the Friday SPX expiration are used to calculate the VIX Index. These SPX options are then weighted to yield a constant maturity 30-day measure of the expected volatility of the S&P 500 Index.\n",
    "\n",
    "* Cboe Options lists SPX options that expire on days other than Fridays. Non-Friday SPX expirations are not used to calculate the VIX Index.\n",
    "\n",
    "Intraday VIX Index values are based on snapshots of SPX option bid/ask quotes every 15 seconds and are intended to provide an indication of the fair market price of expected volatility at particular points in time. As such, these VIX Index values are often referred to as \"indicative\" or \"spot\" values. Cboe Options currently calculates VIX Index spot values between 3:15 a.m. ET and 9:15 a.m. ET (Cboe GTH session), and between 9:30 a.m. ET and 4:15 p.m. ET (Cboe RTH session) according to the VIX Index formula that is set forth in the White Paper.\n",
    "\n",
    "The generalized formula used in the VIX Index calculation is:\n",
    "\n",
    "![Vix](../Figures/vix_formula.png)\n",
    "\n",
    "VIX Index Formula\n",
    "Originally posted (Apr 14 2016); updated (Jun 29 2016); updated (May 15 2018); updated (Oct 8, 2019)[1]\n",
    "\n",
    "[1]: https://www.cboe.com/tradable_products/vix/faqs/"
   ]
  },
  {
   "cell_type": "code",
   "execution_count": null,
   "id": "e29cb233",
   "metadata": {},
   "outputs": [],
   "source": []
  }
 ],
 "metadata": {
  "kernelspec": {
   "display_name": "Python [conda env:snakes]",
   "language": "python",
   "name": "conda-env-snakes-py"
  },
  "language_info": {
   "codemirror_mode": {
    "name": "ipython",
    "version": 3
   },
   "file_extension": ".py",
   "mimetype": "text/x-python",
   "name": "python",
   "nbconvert_exporter": "python",
   "pygments_lexer": "ipython3",
   "version": "3.9.18"
  }
 },
 "nbformat": 4,
 "nbformat_minor": 5
}
