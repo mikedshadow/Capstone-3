{
 "cells": [
  {
   "cell_type": "markdown",
   "id": "782909c5",
   "metadata": {},
   "source": [
    "#  Final Report\n",
    "## Sentiment of stock headlines to improve on time-series models predicting VIX  \n",
    "\n",
    "\n",
    "## 1. Introduction\n",
    "### a. Predicting the unpredictable\n",
    "\n",
    "The VIX index also known as the \"fear index\" is a measurement designed by the Chicago Board Option Exchange to measure of how much volitility will be seen in the S & P 500 (SPX) index over the next 30 days. The CBOE presents the following in the FAQS.\n",
    "\n",
    "The VIX Index is a financial benchmark designed to be an up-to-the-minute market estimate of expected volatility of the S&P 500 Index, and is calculated by using the midpoint of real-time S&P 500® Index (SPX) option bid/ask quotes. More specifically, the VIX Index is intended to provide an instantaneous measure of how much the market thinks the S&P 500 Index will fluctuate in the 30 days from the time of each tick of the VIX Index.\n",
    "\n",
    "\n",
    "Cboe Options Exchange® (Cboe Options®) calculates the VIX Index using standard SPX options and weekly SPX options that are listed for trading on Cboe Options. Standard SPX options expire on the third Friday of each month and weekly SPX options expire on all other Fridays. Only SPX options with Friday expirations are used to calculate the VIX Index.* Only SPX options with more than 23 days and less than 37 days to the Friday SPX expiration are used to calculate the VIX Index. These SPX options are then weighted to yield a constant maturity 30-day measure of the expected volatility of the S&P 500 Index.\n",
    "\n",
    "* Cboe Options lists SPX options that expire on days other than Fridays. Non-Friday SPX expirations are not used to calculate the VIX Index.\n",
    "\n",
    "Intraday VIX Index values are based on snapshots of SPX option bid/ask quotes every 15 seconds and are intended to provide an indication of the fair market price of expected volatility at particular points in time. As such, these VIX Index values are often referred to as \"indicative\" or \"spot\" values. Cboe Options currently calculates VIX Index spot values between 3:15 a.m. ET and 9:15 a.m. ET (Cboe GTH session), and between 9:30 a.m. ET and 4:15 p.m. ET (Cboe RTH session) according to the VIX Index formula that is set forth in the White Paper.\n",
    "\n",
    "The generalized formula used in the VIX Index calculation is:\n",
    "\n",
    "![Vix](../Figures/vix_formula.png)\n",
    "\n",
    "VIX Index Formula\n",
    "Originally posted (Apr 14 2016); updated (Jun 29 2016); updated (May 15 2018); updated (Oct 8, 2019)[1]\n",
    "\n",
    "[1]: https://www.cboe.com/tradable_products/vix/faqs/\n",
    "\n",
    "Since volitility is presumably due to events currently unforseen to the market, the objective here will be to see if improvement can be made on traditional time-series methods of prediction by including exogenous features based on the sentiment financial headlines with references to over 8000 stocks and funds. The hope is to be able to refine and improve the predictive ability of traditional Autoregression/Moving average models. \n",
    "\n",
    "\n",
    "\n",
    "\n",
    "### b. Client \n",
    "\n",
    "  \n",
    "The clients for this question would be a financial investment firms, advertising companies or the advertisers themselves. The financial companies would want a list of winners and losers and a trading strategy to maximize profit from the list. The ad companies would gain valuable marketing and sales information by knowing which companies have the greatest chance of recouping the costs of these expensive ads in their stock price. Finally, the companies themselves would like to know if these expensive ads are worthwhile.\n",
    "    \n",
    "    \n",
    "### c. Binary classification\n",
    "\n",
    "  \n",
    "The question is set up as a Binary Classification problem with \"1\", representing overperforming  and \"0\", underperforming (technically not overperforming). The goal in these problems is to build a model that can make predictions about which class a new input data point belongs to, based on the patterns and features present in the prior data. \n",
    "\n",
    "\n",
    "There are several types of models to choose from for binary classification.\n",
    "\n",
    "**Logistic Regression:** A simple and widely used model for binary classification. It models the probability of an instance belonging to a particular class using the logistic function. Unfortunately, this works well when the relationship between the features and the target variable is relatively simple which seems unlikely here. The primary advantage is speed which is less important in this case with a small number of instances.\n",
    "\n",
    "**K-Nearest Neighbors (KNN):** A simple instance-based classification method that classifies an instance based on the majority class of its k nearest neighbors in the feature space. Simple, but can be slow for large datasets. Intuitively, for this problem, seems like it would use a lot of numeric features in the distance metric and may have difficulty with some of the categorical features which lack ordinality.\n",
    "\n",
    "**Decision Trees:**  They make binary decisions at each node, leading to a leaf node representing a predicted class. Decision trees are easy to interpret but are typically used in ensemble methods.\n",
    "\n",
    "**Random Forest:** An ensemble method that combines multiple decision trees to improve overall performance and reduce overfitting. Each tree is trained on a different subset of the data, and the final prediction is the majority vote (for classification) of the individual tree predictions.\n",
    "\n",
    "**Gradient Boosting:** An ensemble of weak learners (typically decision trees) in a sequential manner. Each new tree corrects the errors made by the previous ones, resulting in a strong predictive model. \n",
    "\n",
    "**Support Vector Machines (SVM):** Find the hyperplane that best separates the two classes while maximizing the margin between them. Effective in cases where the classes are not linearly separable but are in a higher-dimensional space. Sort of a higher dimensional regression which may work well with the categorical features.\n",
    "\n",
    "**Naive Bayes** and **Neural Networks** were left off the list due to the small size of the data.\n",
    "\n",
    "## 2. Data\n",
    "\n",
    "### a. Raw Sources\n"
   ]
  },
  {
   "cell_type": "code",
   "execution_count": null,
   "id": "ce055edc",
   "metadata": {},
   "outputs": [],
   "source": []
  },
  {
   "cell_type": "code",
   "execution_count": null,
   "id": "5f33289c",
   "metadata": {},
   "outputs": [],
   "source": []
  },
  {
   "cell_type": "code",
   "execution_count": null,
   "id": "a6a74364",
   "metadata": {},
   "outputs": [],
   "source": []
  }
 ],
 "metadata": {
  "kernelspec": {
   "display_name": "Python [conda env:snakes]",
   "language": "python",
   "name": "conda-env-snakes-py"
  },
  "language_info": {
   "codemirror_mode": {
    "name": "ipython",
    "version": 3
   },
   "file_extension": ".py",
   "mimetype": "text/x-python",
   "name": "python",
   "nbconvert_exporter": "python",
   "pygments_lexer": "ipython3",
   "version": "3.9.18"
  }
 },
 "nbformat": 4,
 "nbformat_minor": 5
}
